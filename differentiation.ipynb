{
  "nbformat": 4,
  "nbformat_minor": 0,
  "metadata": {
    "colab": {
      "provenance": [],
      "authorship_tag": "ABX9TyMOxGUsCN4k/W3xdMixVi9I",
      "include_colab_link": true
    },
    "kernelspec": {
      "name": "python3",
      "display_name": "Python 3"
    },
    "language_info": {
      "name": "python"
    }
  },
  "cells": [
    {
      "cell_type": "markdown",
      "metadata": {
        "id": "view-in-github",
        "colab_type": "text"
      },
      "source": [
        "<a href=\"https://colab.research.google.com/github/ShreyG1234/Dissertation/blob/main/differentiation.ipynb\" target=\"_parent\"><img src=\"https://colab.research.google.com/assets/colab-badge.svg\" alt=\"Open In Colab\"/></a>"
      ]
    },
    {
      "cell_type": "code",
      "execution_count": null,
      "metadata": {
        "colab": {
          "base_uri": "https://localhost:8080/"
        },
        "id": "RfQ7ul9ZCDrR",
        "outputId": "126bf40c-3d57-42e6-be57-5d1d12ae13e2"
      },
      "outputs": [
        {
          "output_type": "stream",
          "name": "stdout",
          "text": [
            "The function h = 32*x**3 * 4*x\n",
            "The fuction f = 32*x**3\n",
            "The fuction g = 4*x\n",
            "The derivative of the fuction f = 96*x**2\n",
            "The derivative of the fuction g = 4\n",
            "The product rule is, diff(f) * g + diff(g) * f \n",
            "The derivatives of h = 384*x**3 + 128*x**3 = 512*x**3\n"
          ]
        }
      ],
      "source": [
        "from sympy import diff, Symbol\n",
        "x = Symbol('x')\n",
        "f = 32*x**3\n",
        "g = 4*x\n",
        "difff = diff(f)\n",
        "diffg = diff(g)\n",
        "print('The function h =', f, '*', g)\n",
        "print('The fuction f =', f)\n",
        "print('The fuction g =', g)\n",
        "print('The derivative of the fuction f =', difff)\n",
        "print('The derivative of the fuction g =', diffg)\n",
        "print('The product rule is, diff(f) * g + diff(g) * f ')\n",
        "print('The derivatives of h =', diff(f) * g, '+', diff(g) * f,'=',diff(f) * g + diff(g) * f)\n"
      ]
    },
    {
      "cell_type": "code",
      "source": [
        "from sympy import diff , Symbol\n",
        "x = Symbol('x')\n",
        "u = Symbol('u')\n",
        "y = 4*u**4    # Change variable\n",
        "diffy = diff(y, u)\n",
        "u = 32*x+17    # Change variable\n",
        "diffu = diff(u, x)\n",
        "print('The fuction y =', y)\n",
        "print('The fuction u =', u)\n",
        "print('dy/du =', diffy)\n",
        "print('du/dx =', diffu)\n",
        "print('The chain rule is, dy/dx = dy/du * du/dx')\n",
        "print('The derivatives of h =', diffy * diffu)"
      ],
      "metadata": {
        "colab": {
          "base_uri": "https://localhost:8080/"
        },
        "id": "S44lG4rKWQWL",
        "outputId": "35289eb5-b482-4b25-c61b-91324ff27c59"
      },
      "execution_count": null,
      "outputs": [
        {
          "output_type": "stream",
          "name": "stdout",
          "text": [
            "The fuction y = 4*u**4\n",
            "The fuction u = 32*x + 17\n",
            "dy/du = 16*u**3\n",
            "du/dx = 32\n",
            "The chain rule is, dy/dx = dy/du * du/dx\n",
            "The derivatives of h = 512*u**3\n"
          ]
        }
      ]
    },
    {
      "cell_type": "code",
      "source": [
        "from sympy import diff, Symbol\n",
        "x = Symbol('x')\n",
        "f = 2*x\n",
        "g = x**2\n",
        "difff = diff(f)\n",
        "diffg = diff(g)\n",
        "print('The function h =', f, '/', g)\n",
        "print('The fuction f =', f)\n",
        "print('The fuction g =', g)\n",
        "print('The fuction g^2 =', g**2)\n",
        "print('The derivative of the fuction f =', difff)\n",
        "print('The derivative of the fuction g =', diffg)\n",
        "print('The quotient rule is, d/dx*[f(x)/g(x)] (diff(f) * g - diff(g) * f)/g**2 ')\n",
        "print('The derivatives of h =(', diff(f) * g, '-', diff(g) * f,')/', g**2, '=',(diff(f) * g - diff(g) * f)/g**2)"
      ],
      "metadata": {
        "id": "I5SMXKemWk8y",
        "colab": {
          "base_uri": "https://localhost:8080/"
        },
        "outputId": "78ffa52e-ff5f-4785-92e3-fd36c21d4f5d"
      },
      "execution_count": null,
      "outputs": [
        {
          "output_type": "stream",
          "name": "stdout",
          "text": [
            "The function h = 2*x / x**2\n",
            "The fuction f = 2*x\n",
            "The fuction g = x**2\n",
            "The fuction g^2 = x**4\n",
            "The derivative of the fuction f = 2\n",
            "The derivative of the fuction g = 2*x\n",
            "The quotient rule is, d/dx*[f(x)/g(x)] (diff(f) * g - diff(g) * f)/g**2 \n",
            "The derivatives of h =( 2*x**2 - 4*x**2 )/ x**4 = -2/x**2\n"
          ]
        }
      ]
    }
  ]
}