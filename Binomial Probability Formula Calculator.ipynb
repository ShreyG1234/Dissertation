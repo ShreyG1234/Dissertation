{
  "nbformat": 4,
  "nbformat_minor": 0,
  "metadata": {
    "colab": {
      "provenance": [],
      "authorship_tag": "ABX9TyMmZTnOHKPF2m8hsaOED2gz",
      "include_colab_link": true
    },
    "kernelspec": {
      "name": "python3",
      "display_name": "Python 3"
    },
    "language_info": {
      "name": "python"
    }
  },
  "cells": [
    {
      "cell_type": "markdown",
      "metadata": {
        "id": "view-in-github",
        "colab_type": "text"
      },
      "source": [
        "<a href=\"https://colab.research.google.com/github/ShreyG1234/Dissertation/blob/main/Binomial%20Probability%20Formula%20Calculator.ipynb\" target=\"_parent\"><img src=\"https://colab.research.google.com/assets/colab-badge.svg\" alt=\"Open In Colab\"/></a>"
      ]
    },
    {
      "cell_type": "code",
      "execution_count": null,
      "metadata": {
        "colab": {
          "base_uri": "https://localhost:8080/"
        },
        "id": "jXce9gYUgJSW",
        "outputId": "6f838b9c-c6c1-4ee2-d05d-8398cfbae7fd"
      },
      "outputs": [
        {
          "output_type": "stream",
          "name": "stdout",
          "text": [
            "P(X=3) = (n k) * p^k * (1-p)^n-p\n",
            "(n k) = n!/k!(n-k)!\n",
            "The factorial of n which is 5  is : 120\n",
            "The factorial of k which is 3  is : 6\n",
            "The factorial of (n-k) which is 2  is : 2\n",
            "n chose k = 10.0\n",
            "p^k = 0.125\n",
            "(1-p)^n-k= 0.25\n",
            "P( X = 3 ) =( 5  3 ) * 0.5 ^ 3 *(1- 0.5 )^ 5 - 3\n",
            "P( X = 3 ) = 10.0 * 0.125 *( 0.5 )^ 2\n",
            "P( X = 3 ) = 0.3125\n"
          ]
        }
      ],
      "source": [
        "#Binomial Probability Formula Calculator\n",
        "\n",
        "n = 5     #Number of Trials\n",
        "k = 3     #Number of Successful Trials\n",
        "p = 0.5   #Probability of Success\n",
        "\n",
        "pk = p**k\n",
        "f = n - k\n",
        "s = (1-p)**f\n",
        "\n",
        "factf = 1\n",
        "factk = 1\n",
        "factn = 1\n",
        "\n",
        "for i in range(1, f+1):\n",
        "    factf = factf * i\n",
        "for i in range(1, n+1):\n",
        "    factn = factn * i\n",
        "for i in range(1, k+1):\n",
        "    factk = factk * i\n",
        "\n",
        "nchosek = factn/(factk*factf)\n",
        "\n",
        "print(\"P(X=3) = (n k) * p^k * (1-p)^n-p\")\n",
        "print(\"(n k) = n!/k!(n-k)!\")\n",
        "print(\"The factorial of n which is\", n, \" is : \", end=\"\")\n",
        "print(factn)\n",
        "print(\"The factorial of k which is\", k, \" is : \", end=\"\")\n",
        "print(factk)\n",
        "print(\"The factorial of (n-k) which is\", f, \" is : \", end=\"\")\n",
        "print(factf)\n",
        "print(\"n chose k =\", factn/(factk*factf))\n",
        "print(\"p^k =\", pk)\n",
        "print(\"(1-p)^n-k=\", s)\n",
        "print(\"P( X =\",k,\") =(\",n,\"\",k,\") *\",p,\"^\",k,\"*(1-\",p,\")^\",n,\"-\",k,)\n",
        "print(\"P( X =\",k,\") =\", nchosek, \"*\",pk,\"*(\",1-p,\")^\",n-k,)\n",
        "print(\"P( X =\",k,\") =\", nchosek * pk *(1-p)**(n-k))\n"
      ]
    }
  ]
}